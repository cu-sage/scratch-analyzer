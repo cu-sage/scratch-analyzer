{
 "cells": [
  {
   "cell_type": "code",
   "execution_count": 43,
   "metadata": {
    "collapsed": true
   },
   "outputs": [],
   "source": [
    "from collections import defaultdict\n",
    "\n",
    "class Graph:\n",
    "    def __init__(self):\n",
    "        self.nodes = set()\n",
    "        self.edges = defaultdict(list)\n",
    "\n",
    "    def add_node(self, v):\n",
    "        self.nodes.add(v)\n",
    "        \n",
    "    def add_edge(self, u, v, w):\n",
    "        self.edges[u].append((v, w))\n",
    "        \n",
    "def Dijkstra(graph, initial):\n",
    "    delta = {initial: 0}\n",
    "    nodes = set(graph.nodes)\n",
    "    path = {}\n",
    "    while nodes: \n",
    "        min_node = None\n",
    "        for node in nodes:\n",
    "            if node in delta:\n",
    "                if min_node is None:\n",
    "                    min_node = node\n",
    "                elif delta[node] < delta[min_node]:\n",
    "                    min_node = node\n",
    "        if min_node is None:\n",
    "            break\n",
    "        nodes.remove(min_node)\n",
    "        d = delta[min_node]\n",
    "        for v, w in graph.edges[min_node]:\n",
    "            weight = d + w\n",
    "            if v not in delta or weight < delta[v]:\n",
    "                delta[v] = weight\n",
    "                path[v] = min_node\n",
    "    return path"
   ]
  },
  {
   "cell_type": "code",
   "execution_count": 44,
   "metadata": {},
   "outputs": [
    {
     "name": "stdout",
     "output_type": "stream",
     "text": [
      "{2: 1, 3: 1, 4: 2}\n"
     ]
    }
   ],
   "source": [
    "# SSSP test\n",
    "g = Graph()\n",
    "g.add_node(1)\n",
    "g.add_node(2)\n",
    "g.add_node(3)\n",
    "g.add_node(4)\n",
    "g.add_edge(1, 2, 3)\n",
    "g.add_edge(2, 4, 1)\n",
    "g.add_edge(1, 3, 2)\n",
    "g.add_edge(3, 4, 5)\n",
    "\n",
    "print(Dijkstra(g, 1))"
   ]
  },
  {
   "cell_type": "code",
   "execution_count": 47,
   "metadata": {},
   "outputs": [],
   "source": [
    "def add_path(graph, path):\n",
    "    last = None\n",
    "    for code in path:\n",
    "        graph.add_node(code)\n",
    "        if last:\n",
    "            graph.add_edge(last, code, 1)\n",
    "        last = code\n",
    "            \n",
    "def poi_reweight(graph):\n",
    "    # Merge duplicate edges\n",
    "    gprime = Graph()\n",
    "    gprime.nodes = graph.nodes\n",
    "    for node in graph.nodes:\n",
    "        se = defaultdict(lambda: 0)\n",
    "        for v, w in graph.edges[node]:\n",
    "            se[v] += w\n",
    "        # Reweight edges\n",
    "        for v in se:\n",
    "            se[v] = 1.0 / se[v]\n",
    "        gprime.edges[node] = list(se.items())\n",
    "    return gprime"
   ]
  },
  {
   "cell_type": "code",
   "execution_count": 48,
   "metadata": {},
   "outputs": [
    {
     "name": "stdout",
     "output_type": "stream",
     "text": [
      "defaultdict(<class 'list'>, {'end': [], 'milestone': [('end', 1.0)], 'begin': [('end', 0.5), ('milestone', 1.0)]})\n",
      "{'end': 'begin', 'milestone': 'begin'}\n"
     ]
    }
   ],
   "source": [
    "g = Graph()\n",
    "add_path(g, ['begin', 'end'])\n",
    "add_path(g, ['begin', 'end'])\n",
    "add_path(g, ['begin', 'milestone', 'end'])\n",
    "g = poi_reweight(g)\n",
    "print(g.edges)\n",
    "print(Dijkstra(g, 'begin'))"
   ]
  },
  {
   "cell_type": "code",
   "execution_count": null,
   "metadata": {
    "collapsed": true
   },
   "outputs": [],
   "source": []
  },
  {
   "cell_type": "code",
   "execution_count": null,
   "metadata": {
    "collapsed": true
   },
   "outputs": [],
   "source": []
  },
  {
   "cell_type": "code",
   "execution_count": null,
   "metadata": {
    "collapsed": true
   },
   "outputs": [],
   "source": []
  }
 ],
 "metadata": {
  "kernelspec": {
   "display_name": "Python 3",
   "language": "python",
   "name": "python3"
  },
  "language_info": {
   "codemirror_mode": {
    "name": "ipython",
    "version": 3
   },
   "file_extension": ".py",
   "mimetype": "text/x-python",
   "name": "python",
   "nbconvert_exporter": "python",
   "pygments_lexer": "ipython3",
   "version": "3.6.2"
  }
 },
 "nbformat": 4,
 "nbformat_minor": 2
}
