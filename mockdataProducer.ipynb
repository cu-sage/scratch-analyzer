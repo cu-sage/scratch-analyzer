{
 "cells": [
  {
   "cell_type": "code",
   "execution_count": 1,
   "metadata": {
    "collapsed": true
   },
   "outputs": [],
   "source": [
    "from numpy import random\n",
    "import os\n",
    "import shutil"
   ]
  },
  {
   "cell_type": "code",
   "execution_count": 2,
   "metadata": {
    "collapsed": false
   },
   "outputs": [],
   "source": [
    "# mover\n",
    "def mover(url, l):\n",
    "    if not os.path.isdir(url):\n",
    "        os.makedirs(url)\n",
    "    i = 1\n",
    "    count = 0\n",
    "    while i < len(l):\n",
    "        interval = abs(int(random.normal(1,1)))\n",
    "        t = 0\n",
    "        while t < interval:\n",
    "            ouf = open(url+str(count)+'.se', 'w')\n",
    "            ouf.writelines(l[:i])\n",
    "            ouf.close()\n",
    "            t += 1\n",
    "            count += 1\n",
    "        i += 1"
   ]
  },
  {
   "cell_type": "code",
   "execution_count": 3,
   "metadata": {
    "collapsed": true
   },
   "outputs": [],
   "source": [
    "# stopper\n",
    "def stopper(url, l):\n",
    "    if not os.path.isdir(url):\n",
    "        os.makedirs(url)\n",
    "    i = 1\n",
    "    count = 0\n",
    "    while i < len(l):\n",
    "        interval = abs(int(random.normal(5,3)))\n",
    "        t = 0\n",
    "        while t < interval:\n",
    "            ouf = open(url+str(count)+'.se', 'w')\n",
    "            ouf.writelines(l[:i])\n",
    "            ouf.close()\n",
    "            t += 1\n",
    "            count += 1\n",
    "        i += 1"
   ]
  },
  {
   "cell_type": "code",
   "execution_count": 4,
   "metadata": {
    "collapsed": true
   },
   "outputs": [],
   "source": [
    "# extreme mover\n",
    "def extremeMover(url, l):\n",
    "    if not os.path.isdir(url):\n",
    "        os.makedirs(url)\n",
    "    i = 1\n",
    "    count = 0\n",
    "    while i < len(l):\n",
    "        interval = abs(int(random.normal(1,1)))\n",
    "        t = 0\n",
    "        while t < interval:\n",
    "            ouf = open(url+str(count)+'.se', 'w')\n",
    "            ouf.writelines(l[:i])\n",
    "            ouf.close()\n",
    "            t += 1\n",
    "            count += 1\n",
    "        if random.random() > 0.8:\n",
    "            i -= 1\n",
    "        else:\n",
    "            i += 1"
   ]
  },
  {
   "cell_type": "code",
   "execution_count": 5,
   "metadata": {
    "collapsed": true
   },
   "outputs": [],
   "source": [
    "# tinkerer\n",
    "def tinkerer(url, l):\n",
    "    if not os.path.isdir(url):\n",
    "        os.makedirs(url)\n",
    "    i = 1\n",
    "    count = 0\n",
    "    while i < len(l):\n",
    "        interval = abs(int(random.normal(3,1)))\n",
    "        t = 0\n",
    "        while t < interval:\n",
    "            ouf = open(url+str(count)+'.se', 'w')\n",
    "            ouf.writelines(l[:i])\n",
    "            ouf.close()\n",
    "            t += 1\n",
    "            count += 1\n",
    "        if random.random() > 0.7:\n",
    "            i -= 1\n",
    "        else:\n",
    "            i += 1"
   ]
  },
  {
   "cell_type": "code",
   "execution_count": 6,
   "metadata": {
    "collapsed": false
   },
   "outputs": [],
   "source": [
    "def mockPerProject(n, se):\n",
    "    url = '/Users/zhangmengqiao/Desktop/mockData/'\n",
    "    if os.path.exists(url):\n",
    "        shutil.rmtree(url)\n",
    "            \n",
    "    for i in range(n):\n",
    "        l = random.choice(se)\n",
    "        mover(url + 'mover/' + str(i) + '/', l)\n",
    "        stopper(url + 'stopper/' + str(i) + '/', l)\n",
    "        extremeMover(url + 'extremeMover/' + str(i) + '/', l)\n",
    "        tinkerer(url + 'tinkerer/' + str(i) + '/', l)"
   ]
  },
  {
   "cell_type": "code",
   "execution_count": 8,
   "metadata": {
    "collapsed": false
   },
   "outputs": [],
   "source": [
    "url = '/Users/zhangmengqiao/Desktop/completeSE'\n",
    "se = []\n",
    "for file in os.listdir(url):\n",
    "    if not file.endswith(\".se\"):\n",
    "        continue\n",
    "    inf = open(os.path.join(url, file), 'r')\n",
    "    se.append(inf.readlines())\n",
    "    inf.close()\n",
    "    \n",
    "mockPerProject(50, se)"
   ]
  },
  {
   "cell_type": "code",
   "execution_count": null,
   "metadata": {
    "collapsed": true
   },
   "outputs": [],
   "source": []
  }
 ],
 "metadata": {
  "kernelspec": {
   "display_name": "Python [Root]",
   "language": "python",
   "name": "Python [Root]"
  },
  "language_info": {
   "codemirror_mode": {
    "name": "ipython",
    "version": 3
   },
   "file_extension": ".py",
   "mimetype": "text/x-python",
   "name": "python",
   "nbconvert_exporter": "python",
   "pygments_lexer": "ipython3",
   "version": "3.5.2"
  }
 },
 "nbformat": 4,
 "nbformat_minor": 0
}
