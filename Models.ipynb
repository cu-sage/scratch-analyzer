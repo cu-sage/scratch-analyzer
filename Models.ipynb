{
 "cells": [
  {
   "cell_type": "code",
   "execution_count": 1,
   "metadata": {
    "collapsed": false
   },
   "outputs": [],
   "source": [
    "import numpy as np\n",
    "from pandas import read_csv\n",
    "# np.genfromtxt('/Users/zhangmengqiao/Desktop/StatiscalAnalysis.csv',delimiter=\",\",skip_header = 1)\n",
    "data = read_csv('/Users/zhangmengqiao/Desktop/StatiscalAnalysis.csv',delimiter=\",\",skiprows = 0)\n",
    "data = data.as_matrix()\n",
    "X = data[:, 2:]\n",
    "y = data[:, 0].astype(int)"
   ]
  },
  {
   "cell_type": "code",
   "execution_count": 2,
   "metadata": {
    "collapsed": false
   },
   "outputs": [
    {
     "name": "stderr",
     "output_type": "stream",
     "text": [
      "//anaconda/lib/python3.5/site-packages/sklearn/cross_validation.py:41: DeprecationWarning: This module was deprecated in version 0.18 in favor of the model_selection module into which all the refactored classes and functions are moved. Also note that the interface of the new CV iterators are different from that of this module. This module will be removed in 0.20.\n",
      "  \"This module will be removed in 0.20.\", DeprecationWarning)\n"
     ]
    }
   ],
   "source": [
    "from sklearn.cross_validation import cross_val_score\n",
    "from sklearn.neighbors import KNeighborsClassifier\n",
    "from sklearn import linear_model\n",
    "from sklearn import svm\n",
    "from sklearn.feature_selection import VarianceThreshold\n",
    "from sklearn import preprocessing\n",
    "\n",
    "# X = preprocessing.normalize(X, norm='l2')\n",
    "# X = VarianceThreshold(threshold=1).fit_transform(X)\n",
    "# print(X.shape)\n",
    "\n",
    "# scores = cross_val_score(KNeighborsClassifier(n_neighbors=3), X, y, cv=5, scoring='accuracy')\n",
    "# scores = cross_val_score(svm.SVC(kernel='linear', C=1), X, y, cv=5, scoring='accuracy')\n",
    "\n",
    "\n",
    "# print(scores)\n",
    "\n",
    "# print(scores.mean())\n",
    "# np.var(X, axis=0)"
   ]
  },
  {
   "cell_type": "code",
   "execution_count": 3,
   "metadata": {
    "collapsed": false
   },
   "outputs": [
    {
     "name": "stdout",
     "output_type": "stream",
     "text": [
      "[ 0.75        0.52631579  0.55555556  0.70588235  0.70588235]\n",
      "0.648727210182\n"
     ]
    }
   ],
   "source": [
    "from sklearn.tree import DecisionTreeClassifier\n",
    "scores = cross_val_score(DecisionTreeClassifier(criterion='gini', max_depth=7, random_state=0)\n",
    ", X, y, cv=5, scoring='accuracy')\n",
    "print(scores)\n",
    "print(scores.mean())"
   ]
  },
  {
   "cell_type": "code",
   "execution_count": 16,
   "metadata": {
    "collapsed": false
   },
   "outputs": [
    {
     "name": "stdout",
     "output_type": "stream",
     "text": [
      "[ 0.65        0.42105263  0.5         0.58823529  0.64705882]\n",
      "0.561269349845\n"
     ]
    }
   ],
   "source": [
    "from sklearn.neighbors import KNeighborsClassifier\n",
    "scores = cross_val_score(KNeighborsClassifier(n_neighbors=3), X, y, cv=5, scoring='accuracy')\n",
    "print(scores)\n",
    "print(scores.mean())"
   ]
  },
  {
   "cell_type": "code",
   "execution_count": 74,
   "metadata": {
    "collapsed": false
   },
   "outputs": [
    {
     "name": "stdout",
     "output_type": "stream",
     "text": [
      "[ 0.75        0.84210526  0.66666667  0.82352941  0.58823529]\n",
      "0.734107327141\n"
     ]
    }
   ],
   "source": [
    "from sklearn.linear_model import LogisticRegression\n",
    "scores = cross_val_score(LogisticRegression(C=30, random_state=0), X, y, cv=5, scoring='accuracy')\n",
    "print(scores)\n",
    "print(scores.mean())"
   ]
  },
  {
   "cell_type": "code",
   "execution_count": 34,
   "metadata": {
    "collapsed": false
   },
   "outputs": [
    {
     "name": "stdout",
     "output_type": "stream",
     "text": [
      "[ 0.25        0.26315789  0.27777778  0.29411765  0.29411765]\n",
      "0.275834193326\n"
     ]
    }
   ],
   "source": [
    "from sklearn import svm\n",
    "scores = cross_val_score(svm.SVC(C=1.0, decision_function_shape='ovo',kernel='rbf'), X, y, cv=5, scoring='accuracy')\n",
    "print(scores)\n",
    "print(scores.mean())"
   ]
  },
  {
   "cell_type": "code",
   "execution_count": 78,
   "metadata": {
    "collapsed": false
   },
   "outputs": [
    {
     "name": "stdout",
     "output_type": "stream",
     "text": [
      "[ -1.61791926e-15   5.40261252e-02   2.59334185e-01   1.19994903e-01\n",
      "  -1.10230413e-15]\n",
      "0.0866710425044\n"
     ]
    }
   ],
   "source": [
    "from sklearn.cluster import KMeans\n",
    "scores = cross_val_score(KMeans(n_clusters=4, random_state=0), X, y, cv=5, scoring='v_measure_score')\n",
    "print(scores)\n",
    "print(scores.mean())"
   ]
  },
  {
   "cell_type": "code",
   "execution_count": null,
   "metadata": {
    "collapsed": true
   },
   "outputs": [],
   "source": []
  },
  {
   "cell_type": "code",
   "execution_count": null,
   "metadata": {
    "collapsed": true
   },
   "outputs": [],
   "source": []
  }
 ],
 "metadata": {
  "kernelspec": {
   "display_name": "Python [Root]",
   "language": "python",
   "name": "Python [Root]"
  },
  "language_info": {
   "codemirror_mode": {
    "name": "ipython",
    "version": 3
   },
   "file_extension": ".py",
   "mimetype": "text/x-python",
   "name": "python",
   "nbconvert_exporter": "python",
   "pygments_lexer": "ipython3",
   "version": "3.5.2"
  }
 },
 "nbformat": 4,
 "nbformat_minor": 0
}
